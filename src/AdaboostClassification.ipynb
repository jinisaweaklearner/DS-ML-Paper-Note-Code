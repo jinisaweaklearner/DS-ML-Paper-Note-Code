{
  "nbformat": 4,
  "nbformat_minor": 0,
  "metadata": {
    "colab": {
      "name": "AdaboostClassification.ipynb",
      "provenance": [],
      "collapsed_sections": [],
      "authorship_tag": "ABX9TyOzNMC9p2jhMtWE0iStu8RE",
      "include_colab_link": true
    },
    "kernelspec": {
      "name": "python3",
      "display_name": "Python 3"
    }
  },
  "cells": [
    {
      "cell_type": "markdown",
      "metadata": {
        "id": "view-in-github",
        "colab_type": "text"
      },
      "source": [
        "<a href=\"https://colab.research.google.com/github/jinisaweaklearner/DS-ML-Paper-Note-Code/blob/master/src/AdaboostClassification.ipynb\" target=\"_parent\"><img src=\"https://colab.research.google.com/assets/colab-badge.svg\" alt=\"Open In Colab\"/></a>"
      ]
    },
    {
      "cell_type": "markdown",
      "metadata": {
        "id": "gVpu8BJbFFau"
      },
      "source": [
        "\n",
        "\n",
        "# Import Packages\n",
        "\n"
      ]
    },
    {
      "cell_type": "code",
      "metadata": {
        "id": "j-p_8bF7E_2V"
      },
      "source": [
        "from sklearn.ensemble import AdaBoostRegressor\n",
        "import numpy as np\n",
        "import pandas as pd\n",
        "from sklearn.model_selection import train_test_split\n",
        "from sklearn.metrics import mean_squared_error\n",
        "from sklearn.datasets import load_boston\n",
        "from sklearn.metrics import mean_absolute_error\n",
        "from sklearn.tree import export_graphviz\n",
        "from pydotplus import graph_from_dot_data\n",
        "from IPython.display import Image\n",
        "from sklearn.tree import export_text\n",
        "from sklearn.tree import _tree\n",
        "\n",
        "from sklearn.datasets import make_gaussian_quantiles\n",
        "from sklearn.model_selection import train_test_split\n",
        "from sklearn.tree import DecisionTreeClassifier\n",
        "from sklearn.ensemble import AdaBoostClassifier\n",
        "\n",
        "# https://geoffruddock.com/adaboost-from-scratch-in-python/"
      ],
      "execution_count": null,
      "outputs": []
    },
    {
      "cell_type": "markdown",
      "metadata": {
        "id": "X9Jj8U22FOtM"
      },
      "source": [
        "# Load Data"
      ]
    },
    {
      "cell_type": "code",
      "metadata": {
        "id": "Ktucug3FFNvY"
      },
      "source": [
        "def make_toy_dataset(n: int = 100, random_seed: int = None):\n",
        "    \"\"\" Generate a toy dataset for evaluating AdaBoost classifiers \"\"\"\n",
        "    \n",
        "    n_per_class = int(n/2)\n",
        "    \n",
        "    if random_seed:\n",
        "        np.random.seed(random_seed)\n",
        "\n",
        "    X, y = make_gaussian_quantiles(n_samples=n, n_features=2, n_classes=2)\n",
        "    \n",
        "    return X, y*2-1\n",
        "\n",
        "X, y = make_toy_dataset(n=10, random_seed=10) "
      ],
      "execution_count": null,
      "outputs": []
    },
    {
      "cell_type": "markdown",
      "metadata": {
        "id": "iqBBcgVJForW"
      },
      "source": [
        "# Modelling"
      ]
    },
    {
      "cell_type": "code",
      "metadata": {
        "id": "6uNJPhbtY7Pl"
      },
      "source": [
        "lr = 0.3\n",
        "n_trees = 3"
      ],
      "execution_count": null,
      "outputs": []
    },
    {
      "cell_type": "markdown",
      "metadata": {
        "id": "mvLP08PbaYa4"
      },
      "source": [
        "# Interpretation step by step"
      ]
    },
    {
      "cell_type": "code",
      "metadata": {
        "id": "1LXir2dwbSvt"
      },
      "source": [
        "class AdaBoostClassification:\n",
        "    \"\"\" AdaBoost enemble classifier from scratch \"\"\"\n",
        "\n",
        "    def __init__(self):\n",
        "        self.stumps = None\n",
        "        self.stump_weights = None\n",
        "        self.errors = None\n",
        "        self.sample_weights = None\n",
        "\n",
        "    def _check_X_y(self, X, y):\n",
        "        \"\"\" Validate assumptions about format of input data\"\"\"\n",
        "        assert set(y) == {-1, 1}, 'Response variable must be ±1'\n",
        "        return X, y"
      ],
      "execution_count": null,
      "outputs": []
    },
    {
      "cell_type": "markdown",
      "metadata": {
        "id": "XRf82O5H0ps0"
      },
      "source": [
        "\n"
      ]
    },
    {
      "cell_type": "code",
      "metadata": {
        "id": "bvzW4Ul6EOf8"
      },
      "source": [
        "def fit(self, X: np.ndarray, y: np.ndarray, iters: int):\n",
        "    \"\"\" Fit the model using training data \"\"\"\n",
        "\n",
        "    X, y = self._check_X_y(X, y)\n",
        "    n = X.shape[0]\n",
        "\n",
        "    # init numpy arrays\n",
        "    self.sample_weights = np.zeros(shape=(iters, n))\n",
        "    self.stumps = np.zeros(shape=iters, dtype=object)\n",
        "    self.stump_weights = np.zeros(shape=iters)\n",
        "    self.errors = np.zeros(shape=iters)\n",
        "\n",
        "    # initialize weights uniformly\n",
        "    self.sample_weights[0] = np.ones(shape=n) / n\n",
        "\n",
        "    for t in range(iters):\n",
        "\n",
        "        print(t)\n",
        "\n",
        "        # fit  weak learner\n",
        "        curr_sample_weights = self.sample_weights[t]\n",
        "        print('weights: ',curr_sample_weights)\n",
        "        stump = DecisionTreeClassifier(max_depth=1, max_leaf_nodes=2,random_state=42)\n",
        "        stump = stump.fit(X, y, sample_weight=curr_sample_weights)\n",
        "\n",
        "        # calculate error and stump weight from weak learner prediction\n",
        "        stump_pred = stump.predict(X)\n",
        "        print('prediction: ',stump_pred)\n",
        "        err = curr_sample_weights[(stump_pred != y)].sum() \n",
        "        print('error: ',round(err,2))\n",
        "        stump_weight = np.log((1 - err) / err) / 2\n",
        "\n",
        "        # update sample weights\n",
        "        new_sample_weights = (\n",
        "            curr_sample_weights * np.exp(-stump_weight * y * stump_pred)\n",
        "        )\n",
        "        \n",
        "        # normalize weights\n",
        "        new_sample_weights /= new_sample_weights.sum()\n",
        "\n",
        "        # If not final iteration, update sample weights for t+1\n",
        "        if t+1 < iters:\n",
        "            self.sample_weights[t+1] = new_sample_weights\n",
        "\n",
        "        print('total weights:', stump_weight)\n",
        "        # print(new_sample_weights,'\\n')\n",
        "        # save results of iteration\n",
        "        self.stumps[t] = stump\n",
        "        self.stump_weights[t] = stump_weight\n",
        "        self.errors[t] = err\n",
        "\n",
        "    return self\n",
        "\n",
        "def predict(self, X):\n",
        "    \"\"\" Make predictions using already fitted model \"\"\"\n",
        "    # get all predictions of each iteration\n",
        "    stump_preds = np.array([stump.predict(X) for stump in self.stumps])\n",
        "\n",
        "    # predictions(10*3) * weights (3)\n",
        "    pred_prob = np.dot(self.stump_weights, stump_preds)\n",
        "    return pred_prob, np.sign(pred_prob)  \n",
        "\n",
        "AdaBoostClassification.fit = fit\n",
        "AdaBoostClassification.predict = predict      "
      ],
      "execution_count": null,
      "outputs": []
    },
    {
      "cell_type": "code",
      "metadata": {
        "id": "LeUsyKC8EsvX",
        "outputId": "188ee678-987d-47b1-cf6d-1d16fe25cb5a",
        "colab": {
          "base_uri": "https://localhost:8080/"
        }
      },
      "source": [
        "clf = AdaBoostClassification().fit(X, y, iters=3)"
      ],
      "execution_count": null,
      "outputs": [
        {
          "output_type": "stream",
          "text": [
            "0\n",
            "weights:  [0.1 0.1 0.1 0.1 0.1 0.1 0.1 0.1 0.1 0.1]\n",
            "prediction:  [-1  1  1 -1 -1 -1 -1  1 -1 -1]\n",
            "error:  0.2\n",
            "total weights: 0.6931471805599453\n",
            "1\n",
            "weights:  [0.0625 0.0625 0.0625 0.0625 0.0625 0.0625 0.25   0.0625 0.0625 0.25  ]\n",
            "prediction:  [1 1 1 1 1 1 1 1 1 1]\n",
            "error:  0.31\n",
            "total weights: 0.39422868018213514\n",
            "2\n",
            "weights:  [0.1        0.04545455 0.04545455 0.1        0.1        0.1\n",
            " 0.18181818 0.04545455 0.1        0.18181818]\n",
            "prediction:  [-1 -1 -1 -1 -1 -1 -1  1 -1  1]\n",
            "error:  0.27\n",
            "total weights: 0.49041462650586315\n"
          ],
          "name": "stdout"
        }
      ]
    },
    {
      "cell_type": "code",
      "metadata": {
        "id": "5t-CXRbScjj_",
        "outputId": "cb02cc2b-a9a6-4090-a3d2-3e2b087e9ba0",
        "colab": {
          "base_uri": "https://localhost:8080/"
        }
      },
      "source": [
        "pred_prob,final_pred = clf.predict(X)\n",
        "train_err = (final_pred != y).mean()\n",
        "print('final_pred',final_pred)\n",
        "print('pred_prob',pred_prob)\n",
        "print(f'Train error: {train_err:.1%}')"
      ],
      "execution_count": null,
      "outputs": [
        {
          "output_type": "stream",
          "text": [
            "final_pred [-1.  1.  1. -1. -1. -1. -1.  1. -1.  1.]\n",
            "pred_prob [-0.78933313  0.59696123  0.59696123 -0.78933313 -0.78933313 -0.78933313\n",
            " -0.78933313  1.57779049 -0.78933313  0.19149613]\n",
            "Train error: 10.0%\n"
          ],
          "name": "stdout"
        }
      ]
    },
    {
      "cell_type": "code",
      "metadata": {
        "id": "-wOTPIwNEM0Z"
      },
      "source": [
        ""
      ],
      "execution_count": null,
      "outputs": []
    },
    {
      "cell_type": "code",
      "metadata": {
        "id": "4tT1n5XieJRE"
      },
      "source": [
        "clf_package = AdaBoostClassifier(n_estimators=3, random_state=42)"
      ],
      "execution_count": null,
      "outputs": []
    },
    {
      "cell_type": "code",
      "metadata": {
        "id": "Qyw5_isfeJW4",
        "outputId": "19781cce-3389-473e-c3dd-09d2e2457ed9",
        "colab": {
          "base_uri": "https://localhost:8080/"
        }
      },
      "source": [
        "clf_package.fit(X, y)"
      ],
      "execution_count": null,
      "outputs": [
        {
          "output_type": "execute_result",
          "data": {
            "text/plain": [
              "AdaBoostClassifier(algorithm='SAMME.R', base_estimator=None, learning_rate=1.0,\n",
              "                   n_estimators=3, random_state=42)"
            ]
          },
          "metadata": {
            "tags": []
          },
          "execution_count": 139
        }
      ]
    },
    {
      "cell_type": "code",
      "metadata": {
        "id": "2VpZzuciMmWH",
        "outputId": "9d536a0f-76ea-4824-ec96-40e625c040a8",
        "colab": {
          "base_uri": "https://localhost:8080/"
        }
      },
      "source": [
        "clf_package.estimator_weights_"
      ],
      "execution_count": null,
      "outputs": [
        {
          "output_type": "execute_result",
          "data": {
            "text/plain": [
              "array([1., 1., 1.])"
            ]
          },
          "metadata": {
            "tags": []
          },
          "execution_count": 140
        }
      ]
    },
    {
      "cell_type": "code",
      "metadata": {
        "id": "FZ0Hvvd1iqNj",
        "outputId": "e5588275-11cb-45b7-9879-f699aa9eebb1",
        "colab": {
          "base_uri": "https://localhost:8080/"
        }
      },
      "source": [
        "for i in clf_package.staged_predict(X):\n",
        "    print(i)"
      ],
      "execution_count": null,
      "outputs": [
        {
          "output_type": "stream",
          "text": [
            "[-1  1  1 -1 -1 -1 -1  1 -1 -1]\n",
            "[-1  1  1 -1 -1 -1 -1  1 -1 -1]\n",
            "[-1  1  1 -1 -1 -1 -1  1 -1  1]\n"
          ],
          "name": "stdout"
        }
      ]
    },
    {
      "cell_type": "code",
      "metadata": {
        "id": "I4L_SCUzeb3V",
        "outputId": "a33252e0-78a6-46c9-feb3-36d7c4fcc803",
        "colab": {
          "base_uri": "https://localhost:8080/"
        }
      },
      "source": [
        "for i in clf_package.staged_predict_proba(X):\n",
        "    print(i)"
      ],
      "execution_count": null,
      "outputs": [
        {
          "output_type": "stream",
          "text": [
            "[[7.14285714e-01 2.85714286e-01]\n",
            " [2.22044605e-16 1.00000000e+00]\n",
            " [2.22044605e-16 1.00000000e+00]\n",
            " [7.14285714e-01 2.85714286e-01]\n",
            " [7.14285714e-01 2.85714286e-01]\n",
            " [7.14285714e-01 2.85714286e-01]\n",
            " [7.14285714e-01 2.85714286e-01]\n",
            " [2.22044605e-16 1.00000000e+00]\n",
            " [7.14285714e-01 2.85714286e-01]\n",
            " [7.14285714e-01 2.85714286e-01]]\n",
            "[[5.0000000e-01 5.0000000e-01]\n",
            " [9.7069523e-05 9.9990293e-01]\n",
            " [9.7069523e-05 9.9990293e-01]\n",
            " [9.9990293e-01 9.7069523e-05]\n",
            " [5.0000000e-01 5.0000000e-01]\n",
            " [9.9990293e-01 9.7069523e-05]\n",
            " [5.0000000e-01 5.0000000e-01]\n",
            " [9.7069523e-05 9.9990293e-01]\n",
            " [9.9990293e-01 9.7069523e-05]\n",
            " [5.0000000e-01 5.0000000e-01]]\n",
            "[[5.57502675e-01 4.42497325e-01]\n",
            " [2.65419062e-03 9.97345809e-01]\n",
            " [2.65419062e-03 9.97345809e-01]\n",
            " [9.98326267e-01 1.67373319e-03]\n",
            " [5.57502675e-01 4.42497325e-01]\n",
            " [9.98326267e-01 1.67373319e-03]\n",
            " [5.57502675e-01 4.42497325e-01]\n",
            " [1.27907724e-08 9.99999987e-01]\n",
            " [9.98326267e-01 1.67373319e-03]\n",
            " [6.05541778e-06 9.99993945e-01]]\n"
          ],
          "name": "stdout"
        }
      ]
    },
    {
      "cell_type": "code",
      "metadata": {
        "id": "6rXuPcm8eb6a"
      },
      "source": [
        ""
      ],
      "execution_count": null,
      "outputs": []
    }
  ]
}