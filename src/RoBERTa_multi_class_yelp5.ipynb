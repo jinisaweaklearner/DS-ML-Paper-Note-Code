{
  "nbformat": 4,
  "nbformat_minor": 0,
  "metadata": {
    "colab": {
      "name": "RoBERTa_multi_class_yelp5.ipynb",
      "provenance": [],
      "collapsed_sections": [],
      "authorship_tag": "ABX9TyPbKBYQA8XcFwCRjTe2ulsl",
      "include_colab_link": true
    },
    "kernelspec": {
      "name": "python3",
      "display_name": "Python 3"
    },
    "accelerator": "GPU"
  },
  "cells": [
    {
      "cell_type": "markdown",
      "metadata": {
        "id": "view-in-github",
        "colab_type": "text"
      },
      "source": [
        "<a href=\"https://colab.research.google.com/github/jinisaweaklearner/ML-DL-papers-and-code/blob/master/src/RoBERTa_multi_class_yelp5.ipynb\" target=\"_parent\"><img src=\"https://colab.research.google.com/assets/colab-badge.svg\" alt=\"Open In Colab\"/></a>"
      ]
    },
    {
      "cell_type": "markdown",
      "metadata": {
        "id": "XjrLQaXkqjOG",
        "colab_type": "text"
      },
      "source": [
        "# 1. IMPORT LIBRARY"
      ]
    },
    {
      "cell_type": "code",
      "metadata": {
        "id": "Y95jCZrbqMX4",
        "colab_type": "code",
        "colab": {
          "base_uri": "https://localhost:8080/",
          "height": 802
        },
        "outputId": "6ba2b640-36ae-4656-d0ea-15bc1c00c882"
      },
      "source": [
        "# To install the package \"pytorch-transformers\"\n",
        "! pip install pytorch-transformers pendulum\n",
        "\n",
        "import pendulum\n",
        "from fastai.text import *\n",
        "from fastai.metrics import *\n",
        "import torch\n",
        "import torch.nn as nn\n",
        "from pytorch_transformers import RobertaTokenizer\n",
        "from pytorch_transformers import RobertaModel\n",
        "\n",
        "# Garbage Collector\n",
        "import gc \n",
        "\n",
        "# link colab with google drive\n",
        "from google.colab import drive \n",
        "drive.mount('/content/drive')"
      ],
      "execution_count": 1,
      "outputs": [
        {
          "output_type": "stream",
          "text": [
            "Collecting pytorch-transformers\n",
            "\u001b[?25l  Downloading https://files.pythonhosted.org/packages/a3/b7/d3d18008a67e0b968d1ab93ad444fc05699403fa662f634b2f2c318a508b/pytorch_transformers-1.2.0-py3-none-any.whl (176kB)\n",
            "\u001b[K     |████████████████████████████████| 184kB 1.4MB/s \n",
            "\u001b[?25hCollecting pendulum\n",
            "\u001b[?25l  Downloading https://files.pythonhosted.org/packages/fc/e8/2eb9f8a5ce6511f2f1d44f621171388765f34fe1d5fa74d50368aa620bbf/pendulum-2.1.0-cp36-cp36m-manylinux1_x86_64.whl (152kB)\n",
            "\u001b[K     |████████████████████████████████| 153kB 35.3MB/s \n",
            "\u001b[?25hRequirement already satisfied: regex in /usr/local/lib/python3.6/dist-packages (from pytorch-transformers) (2019.12.20)\n",
            "Requirement already satisfied: tqdm in /usr/local/lib/python3.6/dist-packages (from pytorch-transformers) (4.38.0)\n",
            "Requirement already satisfied: requests in /usr/local/lib/python3.6/dist-packages (from pytorch-transformers) (2.21.0)\n",
            "Requirement already satisfied: torch>=1.0.0 in /usr/local/lib/python3.6/dist-packages (from pytorch-transformers) (1.4.0)\n",
            "Collecting sacremoses\n",
            "\u001b[?25l  Downloading https://files.pythonhosted.org/packages/a6/b4/7a41d630547a4afd58143597d5a49e07bfd4c42914d8335b2a5657efc14b/sacremoses-0.0.38.tar.gz (860kB)\n",
            "\u001b[K     |████████████████████████████████| 870kB 41.5MB/s \n",
            "\u001b[?25hCollecting sentencepiece\n",
            "\u001b[?25l  Downloading https://files.pythonhosted.org/packages/74/f4/2d5214cbf13d06e7cb2c20d84115ca25b53ea76fa1f0ade0e3c9749de214/sentencepiece-0.1.85-cp36-cp36m-manylinux1_x86_64.whl (1.0MB)\n",
            "\u001b[K     |████████████████████████████████| 1.0MB 35.3MB/s \n",
            "\u001b[?25hRequirement already satisfied: numpy in /usr/local/lib/python3.6/dist-packages (from pytorch-transformers) (1.18.2)\n",
            "Requirement already satisfied: boto3 in /usr/local/lib/python3.6/dist-packages (from pytorch-transformers) (1.12.35)\n",
            "Collecting pytzdata>=2018.3\n",
            "\u001b[?25l  Downloading https://files.pythonhosted.org/packages/7f/f9/cdd39831b0465285c02ed90cfbf0db25bb951cb2a35ded0e69222375bea3/pytzdata-2019.3-py2.py3-none-any.whl (489kB)\n",
            "\u001b[K     |████████████████████████████████| 491kB 42.4MB/s \n",
            "\u001b[?25hRequirement already satisfied: python-dateutil<3.0,>=2.6 in /usr/local/lib/python3.6/dist-packages (from pendulum) (2.8.1)\n",
            "Requirement already satisfied: idna<2.9,>=2.5 in /usr/local/lib/python3.6/dist-packages (from requests->pytorch-transformers) (2.8)\n",
            "Requirement already satisfied: urllib3<1.25,>=1.21.1 in /usr/local/lib/python3.6/dist-packages (from requests->pytorch-transformers) (1.24.3)\n",
            "Requirement already satisfied: certifi>=2017.4.17 in /usr/local/lib/python3.6/dist-packages (from requests->pytorch-transformers) (2019.11.28)\n",
            "Requirement already satisfied: chardet<3.1.0,>=3.0.2 in /usr/local/lib/python3.6/dist-packages (from requests->pytorch-transformers) (3.0.4)\n",
            "Requirement already satisfied: six in /usr/local/lib/python3.6/dist-packages (from sacremoses->pytorch-transformers) (1.12.0)\n",
            "Requirement already satisfied: click in /usr/local/lib/python3.6/dist-packages (from sacremoses->pytorch-transformers) (7.1.1)\n",
            "Requirement already satisfied: joblib in /usr/local/lib/python3.6/dist-packages (from sacremoses->pytorch-transformers) (0.14.1)\n",
            "Requirement already satisfied: botocore<1.16.0,>=1.15.35 in /usr/local/lib/python3.6/dist-packages (from boto3->pytorch-transformers) (1.15.35)\n",
            "Requirement already satisfied: jmespath<1.0.0,>=0.7.1 in /usr/local/lib/python3.6/dist-packages (from boto3->pytorch-transformers) (0.9.5)\n",
            "Requirement already satisfied: s3transfer<0.4.0,>=0.3.0 in /usr/local/lib/python3.6/dist-packages (from boto3->pytorch-transformers) (0.3.3)\n",
            "Requirement already satisfied: docutils<0.16,>=0.10 in /usr/local/lib/python3.6/dist-packages (from botocore<1.16.0,>=1.15.35->boto3->pytorch-transformers) (0.15.2)\n",
            "Building wheels for collected packages: sacremoses\n",
            "  Building wheel for sacremoses (setup.py) ... \u001b[?25l\u001b[?25hdone\n",
            "  Created wheel for sacremoses: filename=sacremoses-0.0.38-cp36-none-any.whl size=884628 sha256=1c2d354a3c327ec4b8bbea39d49efedae0e0fd3761b64fd0aacbc6316d84d536\n",
            "  Stored in directory: /root/.cache/pip/wheels/6d/ec/1a/21b8912e35e02741306f35f66c785f3afe94de754a0eaf1422\n",
            "Successfully built sacremoses\n",
            "Installing collected packages: sacremoses, sentencepiece, pytorch-transformers, pytzdata, pendulum\n",
            "Successfully installed pendulum-2.1.0 pytorch-transformers-1.2.0 pytzdata-2019.3 sacremoses-0.0.38 sentencepiece-0.1.85\n",
            "Go to this URL in a browser: https://accounts.google.com/o/oauth2/auth?client_id=947318989803-6bn6qk8qdgf4n4g3pfee6491hc0brc4i.apps.googleusercontent.com&redirect_uri=urn%3aietf%3awg%3aoauth%3a2.0%3aoob&response_type=code&scope=email%20https%3a%2f%2fwww.googleapis.com%2fauth%2fdocs.test%20https%3a%2f%2fwww.googleapis.com%2fauth%2fdrive%20https%3a%2f%2fwww.googleapis.com%2fauth%2fdrive.photos.readonly%20https%3a%2f%2fwww.googleapis.com%2fauth%2fpeopleapi.readonly\n",
            "\n",
            "Enter your authorization code:\n",
            "··········\n",
            "Mounted at /content/drive\n"
          ],
          "name": "stdout"
        }
      ]
    },
    {
      "cell_type": "markdown",
      "metadata": {
        "id": "JK9eAciGqqEC",
        "colab_type": "text"
      },
      "source": [
        "# 2. SETUP CONFIG"
      ]
    },
    {
      "cell_type": "code",
      "metadata": {
        "id": "JL4FJAGJqV0j",
        "colab_type": "code",
        "colab": {}
      },
      "source": [
        "# Creating a config object to store task specific information (hyperparameters and path)\n",
        "class Config(dict):\n",
        "    def __init__(self, **kwargs):\n",
        "        super().__init__(**kwargs)\n",
        "        for k, v in kwargs.items():\n",
        "            setattr(self, k, v)\n",
        "\n",
        "    def set(self, key, val):\n",
        "        self[key] = val\n",
        "        setattr(self, key, val)\n",
        "\n",
        "'''\n",
        "file_path: path of files\n",
        "date: today YYYYMMDD\n",
        "seed: diff seed can have diff train and validate dataset (how to split)\n",
        "roberta_model_name: roberta-large/roberta-base\n",
        "max_lr: maximum learning rate\n",
        "epochs: number of epoch\n",
        "bs: batch size, set 4 because of limitation of gpu memory\n",
        "max_seq_len: the maximum length of tokens in a sentence\n",
        "num_labels: number of categories\n",
        "hidden_dropout_prob: the percentage of dropout \n",
        "hidden_size: 1024 for roberta-large and 768 for roberta-base\n",
        "valida_pct: the percentage of validation dataset\n",
        "start_tok: start of a sentence\n",
        "end_tok: end of a sentence\n",
        "model_path: path of model\n",
        "pred_path: path of prediction\n",
        "train_file_path: path of training dataset\n",
        "test_file_path: path of test dataset\n",
        "text_column_name: column name of text\n",
        "target_column_name: column name of target/label\n",
        "'''\n",
        "config = Config(\n",
        "    # change to your own path\n",
        "    file_path = \"/content/drive/Shared drives/NLP/Preprocessing/Training Dataset-20191006/\",\n",
        "    date = pendulum.now().strftime('%Y%m%d'),\n",
        "    seed=18,  \n",
        "    roberta_model_name='roberta-base',\n",
        "    max_lr=1e-5,\n",
        "    epochs=1,\n",
        "    bs=16,  \n",
        "    max_seq_len=200,\n",
        "    num_labels=5,\n",
        "    hidden_dropout_prob=.05,\n",
        "    hidden_size=768,\n",
        "    valid_pct=0.30,\n",
        "    start_tok=\"<s>\",\n",
        "    end_tok=\"</s>\",\n",
        "    text_column_name='text',\n",
        "    target_column_name='label'\n",
        ")\n",
        "\n",
        "config.model_path = f'{config.file_path}/models/{config.roberta_model_name}_Epoch_{config.epochs}_len_{config.max_seq_len}_{config.date}.pkl'\n",
        "config.pred_path = f'{config.file_path}/pred/{config.roberta_model_name}_Epoch_{config.epochs}_len_{config.max_seq_len}_{config.date}.csv'\n",
        "config.train_file_path=f'{config.file_path}/labeled_data.csv'\n",
        "config.test_file_path=f'{config.file_path}/test_data.csv'"
      ],
      "execution_count": 0,
      "outputs": []
    },
    {
      "cell_type": "markdown",
      "metadata": {
        "id": "YcLJ8iSlv88U",
        "colab_type": "text"
      },
      "source": [
        "# 3. SET UP TOKENIZER"
      ]
    },
    {
      "cell_type": "code",
      "metadata": {
        "id": "dAyN924TtsIo",
        "colab_type": "code",
        "colab": {}
      },
      "source": [
        "class FastAiRobertaTokenizer(BaseTokenizer):\n",
        "    \"\"\"Wrapper around RobertaTokenizer to be compatible with fastai\"\"\"\n",
        "    def __init__(self, tokenizer: RobertaTokenizer, max_seq_len: int=128, **kwargs): \n",
        "        self._pretrained_tokenizer = tokenizer\n",
        "        self.max_seq_len = max_seq_len \n",
        "    def __call__(self, *args, **kwargs): \n",
        "        return self \n",
        "    def tokenizer(self, t:str) -> List[str]: \n",
        "        \"\"\"Adds Roberta bos and eos tokens and limits the maximum sequence length\"\"\" \n",
        "        return [config.start_tok] + self._pretrained_tokenizer.tokenize(t)[:self.max_seq_len - 2] + [config.end_tok]\n",
        "\n",
        "# create fastai tokenizer for roberta\n",
        "roberta_tok = RobertaTokenizer.from_pretrained(config.roberta_model_name)\n",
        "\n",
        "fastai_tokenizer = Tokenizer(tok_func=FastAiRobertaTokenizer(roberta_tok, max_seq_len=config.max_seq_len), \n",
        "                             pre_rules=[], post_rules=[])\n",
        "\n",
        "# create fastai vocabulary for roberta\n",
        "path = Path()\n",
        "roberta_tok.save_vocabulary(path)\n",
        "\n",
        "with open('vocab.json', 'r') as f:\n",
        "    roberta_vocab_dict = json.load(f)\n",
        "    \n",
        "fastai_roberta_vocab = Vocab(list(roberta_vocab_dict.keys()))\n",
        "\n",
        "# Setting up pre-processors\n",
        "class RobertaTokenizeProcessor(TokenizeProcessor):\n",
        "    def __init__(self, tokenizer):\n",
        "         super().__init__(tokenizer=tokenizer, include_bos=False, include_eos=False)\n",
        "\n",
        "class RobertaNumericalizeProcessor(NumericalizeProcessor):\n",
        "    def __init__(self, *args, **kwargs):\n",
        "        super().__init__(*args, vocab=fastai_roberta_vocab, **kwargs)\n",
        "\n",
        "\n",
        "def get_roberta_processor(tokenizer:Tokenizer=None, vocab:Vocab=None):\n",
        "    \"\"\"\n",
        "    Constructing preprocessors for Roberta\n",
        "    We remove sos and eos tokens since we add that ourselves in the tokenizer.\n",
        "    We also use a custom vocabulary to match the numericalization with the original Roberta model.\n",
        "    \"\"\"\n",
        "    return [RobertaTokenizeProcessor(tokenizer=tokenizer), NumericalizeProcessor(vocab=vocab)]"
      ],
      "execution_count": 0,
      "outputs": []
    },
    {
      "cell_type": "markdown",
      "metadata": {
        "id": "KxCanWf3wG5V",
        "colab_type": "text"
      },
      "source": [
        "# 4. SETUP DATABUNCH"
      ]
    },
    {
      "cell_type": "code",
      "metadata": {
        "id": "kwC55FBlwFTJ",
        "colab_type": "code",
        "colab": {
          "base_uri": "https://localhost:8080/",
          "height": 34
        },
        "outputId": "20caea49-508c-4f63-aec7-0bd6511c4d88"
      },
      "source": [
        "# Creating a Roberta specific DataBunch class\n",
        "class RobertaDataBunch(TextDataBunch):\n",
        "    \"Create a `TextDataBunch` suitable for training Roberta\"\n",
        "    @classmethod\n",
        "    def create(cls, train_ds, valid_ds, test_ds=None, path:PathOrStr='.', bs:int=64, val_bs:int=None, pad_idx=1,\n",
        "               pad_first=True, device:torch.device=None, no_check:bool=False, backwards:bool=False, \n",
        "               dl_tfms:Optional[Collection[Callable]]=None, **dl_kwargs) -> DataBunch:\n",
        "        \"Function that transform the `datasets` in a `DataBunch` for classification. Passes `**dl_kwargs` on to `DataLoader()`\"\n",
        "        datasets = cls._init_ds(train_ds, valid_ds, test_ds)\n",
        "        val_bs = ifnone(val_bs, bs)\n",
        "        collate_fn = partial(pad_collate, pad_idx=pad_idx, pad_first=pad_first, backwards=backwards)\n",
        "        train_sampler = SortishSampler(datasets[0].x, key=lambda t: len(datasets[0][t][0].data), bs=bs)\n",
        "        train_dl = DataLoader(datasets[0], batch_size=bs, sampler=train_sampler, drop_last=True, **dl_kwargs)\n",
        "        dataloaders = [train_dl]\n",
        "        for ds in datasets[1:]:\n",
        "            lengths = [len(t) for t in ds.x.items]\n",
        "            sampler = SortSampler(ds.x, key=lengths.__getitem__)\n",
        "            dataloaders.append(DataLoader(ds, batch_size=val_bs, sampler=sampler, **dl_kwargs))\n",
        "        return cls(*dataloaders, path=path, device=device, dl_tfms=dl_tfms, collate_fn=collate_fn, no_check=no_check)\n",
        "\n",
        "class RobertaTextList(TextList):\n",
        "    _bunch = RobertaDataBunch\n",
        "    _label_cls = TextList\n",
        "\n",
        "# load dataset\n",
        "train_df = pd.read_csv(config.train_file_path)\n",
        "test_df = pd.read_csv(config.test_file_path)\n",
        "feat_cols = config.text_column_name\n",
        "label_cols = config.target_column_name\n",
        "\n",
        "# loading the tokenizer and vocab processors\n",
        "processor = get_roberta_processor(\n",
        "    tokenizer=fastai_tokenizer, vocab=fastai_roberta_vocab)\n",
        "\n",
        "'''\n",
        "creating databunch\n",
        "from_df: import the data\n",
        "split_by_rand_pct: split the data between the training and the validation set\n",
        "label_from_df: get label from dataset\n",
        "add_test: get test dataset\n",
        "databunch: get some config (batch size)\n",
        "'''\n",
        "data = RobertaTextList.from_df(train_df, \".\", cols=feat_cols, processor=processor) \\\n",
        "    .split_by_rand_pct(valid_pct=config.valid_pct, seed=config.seed) \\\n",
        "    .label_from_df(cols=label_cols, label_cls=CategoryList) \\\n",
        "    .add_test(RobertaTextList.from_df(test_df, \".\", cols=feat_cols, processor=processor)) \\\n",
        "    .databunch(bs=config.bs, pad_first=False, pad_idx=0)\n",
        "\n",
        "# remove unnecessary files\n",
        "del train_df  \n",
        "del test_df \n",
        "gc.collect()  # clean the memory"
      ],
      "execution_count": 8,
      "outputs": [
        {
          "output_type": "display_data",
          "data": {
            "text/html": [
              ""
            ],
            "text/plain": [
              "<IPython.core.display.HTML object>"
            ]
          },
          "metadata": {
            "tags": []
          }
        },
        {
          "output_type": "display_data",
          "data": {
            "text/html": [
              ""
            ],
            "text/plain": [
              "<IPython.core.display.HTML object>"
            ]
          },
          "metadata": {
            "tags": []
          }
        },
        {
          "output_type": "display_data",
          "data": {
            "text/html": [
              ""
            ],
            "text/plain": [
              "<IPython.core.display.HTML object>"
            ]
          },
          "metadata": {
            "tags": []
          }
        },
        {
          "output_type": "execute_result",
          "data": {
            "text/plain": [
              "0"
            ]
          },
          "metadata": {
            "tags": []
          },
          "execution_count": 8
        }
      ]
    },
    {
      "cell_type": "markdown",
      "metadata": {
        "id": "HvQlw-VXyVrD",
        "colab_type": "text"
      },
      "source": [
        "# 5. TRAINING AND VALIDATION"
      ]
    },
    {
      "cell_type": "code",
      "metadata": {
        "id": "N4saOz_AwSpQ",
        "colab_type": "code",
        "colab": {}
      },
      "source": [
        "# defining our model architecture\n",
        "class CustomRobertaModel(nn.Module):\n",
        "    def __init__(self, num_labels=5):\n",
        "        super(CustomRobertaModel, self).__init__()\n",
        "        self.num_labels = num_labels  # get number of labels\n",
        "        self.roberta = RobertaModel.from_pretrained(\n",
        "            config.roberta_model_name)  # get pre-trained model\n",
        "        # set up percentage of drop\n",
        "        self.dropout = nn.Dropout(config.hidden_dropout_prob)\n",
        "        # defining final output layer\n",
        "        self.classifier = nn.Linear(config.hidden_size, num_labels)\n",
        "\n",
        "    def forward(self, input_ids, token_type_ids=None, attention_mask=None, labels=None):\n",
        "        _, pooled_output = self.roberta(\n",
        "            input_ids, token_type_ids, attention_mask)\n",
        "        logits = self.classifier(pooled_output)\n",
        "        return logits\n",
        "\n",
        "roberta_model = CustomRobertaModel()\n",
        "learn = Learner(data, roberta_model, metrics=[accuracy]) #  use acc as evaluation metrics\n",
        "learn = learn.to_fp16()  # train using half precision (instead of float 32) which can help to speedup\n",
        "\n",
        "gc.collect() # clean the memory before modelling\n",
        "learn.model.roberta.train() # setting roberta to train as it is in eval mode by default\n",
        "learn.fit_one_cycle(config.epochs, max_lr=config.max_lr) # train on one epoch\n",
        "learn.export(config.model_path)  # store the model"
      ],
      "execution_count": 0,
      "outputs": []
    },
    {
      "cell_type": "markdown",
      "metadata": {
        "id": "oH8HCRqcytpb",
        "colab_type": "text"
      },
      "source": [
        "# 6. PREDICTION"
      ]
    },
    {
      "cell_type": "code",
      "metadata": {
        "id": "8sqC_tzpyvLq",
        "colab_type": "code",
        "colab": {}
      },
      "source": [
        "def get_preds_as_nparray(ds_type) -> np.ndarray:\n",
        "    learn.model.roberta.eval() # evaludation\n",
        "    preds = learn.get_preds(ds_type)[0].detach().cpu().numpy() # prediction\n",
        "    sampler = [i for i in data.dl(ds_type).sampler]\n",
        "    reverse_sampler = np.argsort(sampler) # return the indices that would sort an array\n",
        "    ordered_preds = preds[reverse_sampler, :] # get predicitons by order\n",
        "    pred_values = np.argmax(ordered_preds, axis=1) # get the index of highiest probability\n",
        "    return ordered_preds, pred_values # return value and probability\n",
        "\n",
        "test_preds = get_preds_as_nparray(DatasetType.Test) # predict on test dataset\n",
        "\n",
        "# import the test dataset again to get test_id\n",
        "test_df = pd.read_csv(config.test_file_path)\n",
        "\n",
        "prediction = test_preds[1] + 1 # convert predictions from (0-4) to (1-5)\n",
        "test_df[config.text_column_name] = prediction \n",
        "test_df.drop([config.target_column_name], axis=1, inplace=True) # drop the text"
      ],
      "execution_count": 0,
      "outputs": []
    },
    {
      "cell_type": "code",
      "metadata": {
        "id": "-FTIr6IdFzIU",
        "colab_type": "code",
        "colab": {
          "base_uri": "https://localhost:8080/",
          "height": 419
        },
        "outputId": "64ffacf7-9aac-454d-dbf9-5305c77d4505"
      },
      "source": [
        "test_df"
      ],
      "execution_count": 11,
      "outputs": [
        {
          "output_type": "execute_result",
          "data": {
            "text/html": [
              "<div>\n",
              "<style scoped>\n",
              "    .dataframe tbody tr th:only-of-type {\n",
              "        vertical-align: middle;\n",
              "    }\n",
              "\n",
              "    .dataframe tbody tr th {\n",
              "        vertical-align: top;\n",
              "    }\n",
              "\n",
              "    .dataframe thead th {\n",
              "        text-align: right;\n",
              "    }\n",
              "</style>\n",
              "<table border=\"1\" class=\"dataframe\">\n",
              "  <thead>\n",
              "    <tr style=\"text-align: right;\">\n",
              "      <th></th>\n",
              "      <th>test_id</th>\n",
              "      <th>text</th>\n",
              "    </tr>\n",
              "  </thead>\n",
              "  <tbody>\n",
              "    <tr>\n",
              "      <th>0</th>\n",
              "      <td>test_1</td>\n",
              "      <td>3</td>\n",
              "    </tr>\n",
              "    <tr>\n",
              "      <th>1</th>\n",
              "      <td>test_2</td>\n",
              "      <td>4</td>\n",
              "    </tr>\n",
              "    <tr>\n",
              "      <th>2</th>\n",
              "      <td>test_3</td>\n",
              "      <td>2</td>\n",
              "    </tr>\n",
              "    <tr>\n",
              "      <th>3</th>\n",
              "      <td>test_4</td>\n",
              "      <td>5</td>\n",
              "    </tr>\n",
              "    <tr>\n",
              "      <th>4</th>\n",
              "      <td>test_5</td>\n",
              "      <td>4</td>\n",
              "    </tr>\n",
              "    <tr>\n",
              "      <th>...</th>\n",
              "      <td>...</td>\n",
              "      <td>...</td>\n",
              "    </tr>\n",
              "    <tr>\n",
              "      <th>49995</th>\n",
              "      <td>test_49996</td>\n",
              "      <td>3</td>\n",
              "    </tr>\n",
              "    <tr>\n",
              "      <th>49996</th>\n",
              "      <td>test_49997</td>\n",
              "      <td>2</td>\n",
              "    </tr>\n",
              "    <tr>\n",
              "      <th>49997</th>\n",
              "      <td>test_49998</td>\n",
              "      <td>2</td>\n",
              "    </tr>\n",
              "    <tr>\n",
              "      <th>49998</th>\n",
              "      <td>test_49999</td>\n",
              "      <td>5</td>\n",
              "    </tr>\n",
              "    <tr>\n",
              "      <th>49999</th>\n",
              "      <td>test_50000</td>\n",
              "      <td>2</td>\n",
              "    </tr>\n",
              "  </tbody>\n",
              "</table>\n",
              "<p>50000 rows × 2 columns</p>\n",
              "</div>"
            ],
            "text/plain": [
              "          test_id  text\n",
              "0          test_1     3\n",
              "1          test_2     4\n",
              "2          test_3     2\n",
              "3          test_4     5\n",
              "4          test_5     4\n",
              "...           ...   ...\n",
              "49995  test_49996     3\n",
              "49996  test_49997     2\n",
              "49997  test_49998     2\n",
              "49998  test_49999     5\n",
              "49999  test_50000     2\n",
              "\n",
              "[50000 rows x 2 columns]"
            ]
          },
          "metadata": {
            "tags": []
          },
          "execution_count": 11
        }
      ]
    },
    {
      "cell_type": "code",
      "metadata": {
        "id": "XmlWw6lMy5le",
        "colab_type": "code",
        "colab": {}
      },
      "source": [
        "test_df.to_csv(config.pred_path, index=False)  # save the prediction on google drive"
      ],
      "execution_count": 0,
      "outputs": []
    }
  ]
}