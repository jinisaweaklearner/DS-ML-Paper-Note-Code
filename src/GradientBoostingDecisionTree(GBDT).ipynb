{
  "nbformat": 4,
  "nbformat_minor": 0,
  "metadata": {
    "colab": {
      "name": "GradientBoostingDecisionTree (GBDT).ipynb",
      "provenance": [],
      "collapsed_sections": [],
      "authorship_tag": "ABX9TyMMO0WU5Hsyv1duRMpKv1T/",
      "include_colab_link": true
    },
    "kernelspec": {
      "name": "python3",
      "display_name": "Python 3"
    }
  },
  "cells": [
    {
      "cell_type": "markdown",
      "metadata": {
        "id": "view-in-github",
        "colab_type": "text"
      },
      "source": [
        "<a href=\"https://colab.research.google.com/github/jinisaweaklearner/DS-ML-Paper-Note-Code/blob/master/src/GradientBoostingDecisionTree(GBDT).ipynb\" target=\"_parent\"><img src=\"https://colab.research.google.com/assets/colab-badge.svg\" alt=\"Open In Colab\"/></a>"
      ]
    },
    {
      "cell_type": "markdown",
      "metadata": {
        "id": "gVpu8BJbFFau"
      },
      "source": [
        "\n",
        "\n",
        "# Import Packages\n",
        "\n"
      ]
    },
    {
      "cell_type": "code",
      "metadata": {
        "id": "j-p_8bF7E_2V"
      },
      "source": [
        "from sklearn.ensemble import GradientBoostingRegressor\n",
        "import numpy as np\n",
        "import pandas as pd\n",
        "from sklearn.model_selection import train_test_split\n",
        "from sklearn.metrics import mean_squared_error\n",
        "from sklearn.datasets import load_boston\n",
        "from sklearn.metrics import mean_absolute_error\n",
        "from sklearn.tree import export_graphviz\n",
        "from pydotplus import graph_from_dot_data\n",
        "from IPython.display import Image\n",
        "from sklearn.tree import export_text\n",
        "from sklearn.tree import _tree"
      ],
      "execution_count": null,
      "outputs": []
    },
    {
      "cell_type": "markdown",
      "metadata": {
        "id": "X9Jj8U22FOtM"
      },
      "source": [
        "# Load Data"
      ]
    },
    {
      "cell_type": "code",
      "metadata": {
        "id": "Ktucug3FFNvY"
      },
      "source": [
        "boston = load_boston()\n",
        "X = pd.DataFrame(boston.data, columns=boston.feature_names)\n",
        "y = pd.Series(boston.target)"
      ],
      "execution_count": null,
      "outputs": []
    },
    {
      "cell_type": "markdown",
      "metadata": {
        "id": "iqBBcgVJForW"
      },
      "source": [
        "# Modelling"
      ]
    },
    {
      "cell_type": "code",
      "metadata": {
        "id": "6uNJPhbtY7Pl"
      },
      "source": [
        "lr = 0.3\n",
        "n_trees = 3"
      ],
      "execution_count": null,
      "outputs": []
    },
    {
      "cell_type": "code",
      "metadata": {
        "id": "3llkeIAjFT4H",
        "outputId": "863128ca-44ad-4a6a-e7fd-7e9ce479167b",
        "colab": {
          "base_uri": "https://localhost:8080/"
        }
      },
      "source": [
        "model = GradientBoostingRegressor(\n",
        "    max_depth=2,\n",
        "    n_estimators=n_trees,\n",
        "    learning_rate=lr,\n",
        "    random_state = 42\n",
        ")\n",
        "model.fit(X, y)"
      ],
      "execution_count": null,
      "outputs": [
        {
          "output_type": "execute_result",
          "data": {
            "text/plain": [
              "GradientBoostingRegressor(alpha=0.9, ccp_alpha=0.0, criterion='friedman_mse',\n",
              "                          init=None, learning_rate=0.3, loss='ls', max_depth=2,\n",
              "                          max_features=None, max_leaf_nodes=None,\n",
              "                          min_impurity_decrease=0.0, min_impurity_split=None,\n",
              "                          min_samples_leaf=1, min_samples_split=2,\n",
              "                          min_weight_fraction_leaf=0.0, n_estimators=3,\n",
              "                          n_iter_no_change=None, presort='deprecated',\n",
              "                          random_state=42, subsample=1.0, tol=0.0001,\n",
              "                          validation_fraction=0.1, verbose=0, warm_start=False)"
            ]
          },
          "metadata": {
            "tags": []
          },
          "execution_count": 4
        }
      ]
    },
    {
      "cell_type": "markdown",
      "metadata": {
        "id": "mvLP08PbaYa4"
      },
      "source": [
        "# Interpretation step by step"
      ]
    },
    {
      "cell_type": "code",
      "metadata": {
        "id": "uPzdpAzPE9XE"
      },
      "source": [
        "# get decision rules by model\n",
        "def get_decision_rules(tree, feature_names):\n",
        "    tree_ = tree.tree_\n",
        "    feature_name = [\n",
        "        feature_names[i] if i != _tree.TREE_UNDEFINED else \"undefined!\"\n",
        "        for i in tree_.feature\n",
        "    ]\n",
        "    # print(\"def tree({}):\".format(\", \".join(feature_names)))\n",
        "\n",
        "    decision_rules = []\n",
        "    def recurse(node, depth):\n",
        "        indent = \"  \" * depth\n",
        "        # print(tree_.feature[node])\n",
        "        if tree_.feature[node] != _tree.TREE_UNDEFINED:\n",
        "            name = feature_name[node]\n",
        "            threshold = tree_.threshold[node]\n",
        "            print(\"{}if {} <= {}:\".format(indent, name, threshold))\n",
        "            recurse(tree_.children_left[node], depth + 1)\n",
        "            \n",
        "            print(\"{}else:  # if {} > {}\".format(indent, name, threshold))\n",
        "            recurse(tree_.children_right[node], depth + 1)\n",
        "\n",
        "            decision_rules.append([name, threshold])\n",
        "        #else:\n",
        "            # print(depth)\n",
        "            # print(\"{}return {}\".format(indent, tree_.value[node]))\n",
        "\n",
        "    recurse(0, 1)\n",
        "    print('decision rules:', decision_rules[::-1])\n",
        "    return decision_rules[::-1]\n",
        "\n",
        "# get the particular 1st,2nd,3rd trees \n",
        "def get_tree(model,tree_index):\n",
        "    return model.estimators_[tree_index][0]"
      ],
      "execution_count": null,
      "outputs": []
    },
    {
      "cell_type": "code",
      "metadata": {
        "id": "YNvJ4nuafTJ4"
      },
      "source": [
        "# get the relevant nodes for each observations \n",
        "def get_nodes_by_resid(d_rule,df_record,tree_number, prediction):\n",
        "    nodes_for_resid = []\n",
        "    resid = []\n",
        "    \n",
        "    for idx, row in X.iterrows():\n",
        "        ground_truth = y[idx]\n",
        "        pred = prediction[idx]\n",
        "        residual = ground_truth - pred\n",
        "        resid.append(residual)\n",
        "\n",
        "        # hardcode the tree structure (depth=2)\n",
        "        if row[d_rule[0][0]] <= d_rule[0][1]:\n",
        "            if row[d_rule[2][0]] <= d_rule[2][1]:\n",
        "                nodes_for_resid.append('a')\n",
        "            else:\n",
        "                nodes_for_resid.append('b')\n",
        "        else:\n",
        "            if row[d_rule[1][0]] <= d_rule[1][1]:\n",
        "                nodes_for_resid.append('c')\n",
        "            else:\n",
        "                nodes_for_resid.append('d')\n",
        "        \n",
        "    return nodes_for_resid, resid"
      ],
      "execution_count": null,
      "outputs": []
    },
    {
      "cell_type": "code",
      "metadata": {
        "id": "sWpX79bWcbvN"
      },
      "source": [
        "def main(model, n_tree):\n",
        "    for tree_number in range(n_tree):\n",
        "        print('number of tree:',tree_number)\n",
        "\n",
        "        # get single decision tree\n",
        "        tree = get_tree(model,tree_number)\n",
        "        # get decision rules\n",
        "        d_rule = get_decision_rules(tree, boston['feature_names'])\n",
        "        \n",
        "        # initial values (avg) for the 1st tree\n",
        "        if tree_number == 0:\n",
        "            df_record = pd.DataFrame({'ground_truth':y})\n",
        "            df_record['pred_0'] = [y.mean()]*len(X)\n",
        "\n",
        "        # get the nodes of each observation\n",
        "        prediction = df_record[f'pred_{tree_number}'].tolist()\n",
        "        nodes_for_resid, resid = get_nodes_by_resid(d_rule,df_record,tree_number, prediction)\n",
        "        \n",
        "        # calculation and updating the residual\n",
        "        df_record[f'node_{tree_number}'] = nodes_for_resid\n",
        "        df_record[f'residual_{tree_number}'] = resid\n",
        "\n",
        "        # get the avg residual of each node\n",
        "        df_resid_nodes_stats = df_record.groupby(f'node_{tree_number}',as_index=False)[[f'residual_{tree_number}']].mean()\n",
        "        df_resid_nodes_stats.rename(columns={f'residual_{tree_number}':f'residual_avg_{tree_number}'},inplace=True)\n",
        "        df_record = pd.merge(df_record, df_resid_nodes_stats,on = f'node_{tree_number}',how='left')\n",
        "\n",
        "        # get the updated predictions by using avg residual\n",
        "        # prediction(n+1) = prediction(n) + lr * avg_residual_from_its_related_node\n",
        "        df_record[f'pred_{tree_number+1}'] = df_record[f'pred_{tree_number}'] + df_record[f'residual_avg_{tree_number}']*model.learning_rate\n",
        "        print('\\n')\n",
        "    return df_record"
      ],
      "execution_count": null,
      "outputs": []
    },
    {
      "cell_type": "code",
      "metadata": {
        "id": "uNaR_Bg7axk4",
        "outputId": "434e9d86-3e40-4e99-94e0-a49f912847c8",
        "colab": {
          "base_uri": "https://localhost:8080/"
        }
      },
      "source": [
        "df_records = main(model, model.n_estimators)"
      ],
      "execution_count": null,
      "outputs": [
        {
          "output_type": "stream",
          "text": [
            "number of tree: 0\n",
            "  if RM <= 6.940999984741211:\n",
            "    if LSTAT <= 14.400000095367432:\n",
            "    else:  # if LSTAT > 14.400000095367432\n",
            "  else:  # if RM > 6.940999984741211\n",
            "    if RM <= 7.437000036239624:\n",
            "    else:  # if RM > 7.437000036239624\n",
            "decision rules: [['RM', 6.940999984741211], ['RM', 7.437000036239624], ['LSTAT', 14.400000095367432]]\n",
            "\n",
            "\n",
            "number of tree: 1\n",
            "  if LSTAT <= 9.630000114440918:\n",
            "    if LSTAT <= 4.650000095367432:\n",
            "    else:  # if LSTAT > 4.650000095367432\n",
            "  else:  # if LSTAT > 9.630000114440918\n",
            "    if CRIM <= 5.848029851913452:\n",
            "    else:  # if CRIM > 5.848029851913452\n",
            "decision rules: [['LSTAT', 9.630000114440918], ['CRIM', 5.848029851913452], ['LSTAT', 4.650000095367432]]\n",
            "\n",
            "\n",
            "number of tree: 2\n",
            "  if RM <= 6.837500095367432:\n",
            "    if LSTAT <= 19.229999542236328:\n",
            "    else:  # if LSTAT > 19.229999542236328\n",
            "  else:  # if RM > 6.837500095367432\n",
            "    if NOX <= 0.6590000092983246:\n",
            "    else:  # if NOX > 0.6590000092983246\n",
            "decision rules: [['RM', 6.837500095367432], ['NOX', 0.6590000092983246], ['LSTAT', 19.229999542236328]]\n",
            "\n",
            "\n"
          ],
          "name": "stdout"
        }
      ]
    },
    {
      "cell_type": "code",
      "metadata": {
        "id": "mtiXBF4xiu4a",
        "outputId": "d2186e36-883e-4827-bcc7-ed6c894915a1",
        "colab": {
          "base_uri": "https://localhost:8080/",
          "height": 204
        }
      },
      "source": [
        "df_records.head()"
      ],
      "execution_count": null,
      "outputs": [
        {
          "output_type": "execute_result",
          "data": {
            "text/html": [
              "<div>\n",
              "<style scoped>\n",
              "    .dataframe tbody tr th:only-of-type {\n",
              "        vertical-align: middle;\n",
              "    }\n",
              "\n",
              "    .dataframe tbody tr th {\n",
              "        vertical-align: top;\n",
              "    }\n",
              "\n",
              "    .dataframe thead th {\n",
              "        text-align: right;\n",
              "    }\n",
              "</style>\n",
              "<table border=\"1\" class=\"dataframe\">\n",
              "  <thead>\n",
              "    <tr style=\"text-align: right;\">\n",
              "      <th></th>\n",
              "      <th>ground_truth</th>\n",
              "      <th>pred_0</th>\n",
              "      <th>node_0</th>\n",
              "      <th>residual_0</th>\n",
              "      <th>residual_avg_0</th>\n",
              "      <th>pred_1</th>\n",
              "      <th>node_1</th>\n",
              "      <th>residual_1</th>\n",
              "      <th>residual_avg_1</th>\n",
              "      <th>pred_2</th>\n",
              "      <th>node_2</th>\n",
              "      <th>residual_2</th>\n",
              "      <th>residual_avg_2</th>\n",
              "      <th>pred_3</th>\n",
              "    </tr>\n",
              "  </thead>\n",
              "  <tbody>\n",
              "    <tr>\n",
              "      <th>0</th>\n",
              "      <td>24.0</td>\n",
              "      <td>22.532806</td>\n",
              "      <td>a</td>\n",
              "      <td>1.467194</td>\n",
              "      <td>0.816998</td>\n",
              "      <td>22.777906</td>\n",
              "      <td>b</td>\n",
              "      <td>1.222094</td>\n",
              "      <td>3.214128</td>\n",
              "      <td>23.742144</td>\n",
              "      <td>a</td>\n",
              "      <td>0.257856</td>\n",
              "      <td>-0.503113</td>\n",
              "      <td>23.591210</td>\n",
              "    </tr>\n",
              "    <tr>\n",
              "      <th>1</th>\n",
              "      <td>21.6</td>\n",
              "      <td>22.532806</td>\n",
              "      <td>a</td>\n",
              "      <td>-0.932806</td>\n",
              "      <td>0.816998</td>\n",
              "      <td>22.777906</td>\n",
              "      <td>b</td>\n",
              "      <td>-1.177906</td>\n",
              "      <td>3.214128</td>\n",
              "      <td>23.742144</td>\n",
              "      <td>a</td>\n",
              "      <td>-2.142144</td>\n",
              "      <td>-0.503113</td>\n",
              "      <td>23.591210</td>\n",
              "    </tr>\n",
              "    <tr>\n",
              "      <th>2</th>\n",
              "      <td>34.7</td>\n",
              "      <td>22.532806</td>\n",
              "      <td>c</td>\n",
              "      <td>12.167194</td>\n",
              "      <td>9.580237</td>\n",
              "      <td>25.406877</td>\n",
              "      <td>a</td>\n",
              "      <td>9.293123</td>\n",
              "      <td>13.308074</td>\n",
              "      <td>29.399300</td>\n",
              "      <td>c</td>\n",
              "      <td>5.300700</td>\n",
              "      <td>8.446460</td>\n",
              "      <td>31.933238</td>\n",
              "    </tr>\n",
              "    <tr>\n",
              "      <th>3</th>\n",
              "      <td>33.4</td>\n",
              "      <td>22.532806</td>\n",
              "      <td>c</td>\n",
              "      <td>10.867194</td>\n",
              "      <td>9.580237</td>\n",
              "      <td>25.406877</td>\n",
              "      <td>a</td>\n",
              "      <td>7.993123</td>\n",
              "      <td>13.308074</td>\n",
              "      <td>29.399300</td>\n",
              "      <td>c</td>\n",
              "      <td>4.000700</td>\n",
              "      <td>8.446460</td>\n",
              "      <td>31.933238</td>\n",
              "    </tr>\n",
              "    <tr>\n",
              "      <th>4</th>\n",
              "      <td>36.2</td>\n",
              "      <td>22.532806</td>\n",
              "      <td>c</td>\n",
              "      <td>13.667194</td>\n",
              "      <td>9.580237</td>\n",
              "      <td>25.406877</td>\n",
              "      <td>b</td>\n",
              "      <td>10.793123</td>\n",
              "      <td>3.214128</td>\n",
              "      <td>26.371116</td>\n",
              "      <td>c</td>\n",
              "      <td>9.828884</td>\n",
              "      <td>8.446460</td>\n",
              "      <td>28.905054</td>\n",
              "    </tr>\n",
              "  </tbody>\n",
              "</table>\n",
              "</div>"
            ],
            "text/plain": [
              "   ground_truth     pred_0 node_0  ...  residual_2  residual_avg_2     pred_3\n",
              "0          24.0  22.532806      a  ...    0.257856       -0.503113  23.591210\n",
              "1          21.6  22.532806      a  ...   -2.142144       -0.503113  23.591210\n",
              "2          34.7  22.532806      c  ...    5.300700        8.446460  31.933238\n",
              "3          33.4  22.532806      c  ...    4.000700        8.446460  31.933238\n",
              "4          36.2  22.532806      c  ...    9.828884        8.446460  28.905054\n",
              "\n",
              "[5 rows x 14 columns]"
            ]
          },
          "metadata": {
            "tags": []
          },
          "execution_count": 9
        }
      ]
    },
    {
      "cell_type": "code",
      "metadata": {
        "id": "tdAIUfmJPka0",
        "outputId": "72a54a76-3348-4642-ccee-a17dd62f4467",
        "colab": {
          "base_uri": "https://localhost:8080/",
          "height": 204
        }
      },
      "source": [
        "df_records.filter(regex='pred').head()"
      ],
      "execution_count": null,
      "outputs": [
        {
          "output_type": "execute_result",
          "data": {
            "text/html": [
              "<div>\n",
              "<style scoped>\n",
              "    .dataframe tbody tr th:only-of-type {\n",
              "        vertical-align: middle;\n",
              "    }\n",
              "\n",
              "    .dataframe tbody tr th {\n",
              "        vertical-align: top;\n",
              "    }\n",
              "\n",
              "    .dataframe thead th {\n",
              "        text-align: right;\n",
              "    }\n",
              "</style>\n",
              "<table border=\"1\" class=\"dataframe\">\n",
              "  <thead>\n",
              "    <tr style=\"text-align: right;\">\n",
              "      <th></th>\n",
              "      <th>pred_0</th>\n",
              "      <th>pred_1</th>\n",
              "      <th>pred_2</th>\n",
              "      <th>pred_3</th>\n",
              "    </tr>\n",
              "  </thead>\n",
              "  <tbody>\n",
              "    <tr>\n",
              "      <th>0</th>\n",
              "      <td>22.532806</td>\n",
              "      <td>22.777906</td>\n",
              "      <td>23.742144</td>\n",
              "      <td>23.591210</td>\n",
              "    </tr>\n",
              "    <tr>\n",
              "      <th>1</th>\n",
              "      <td>22.532806</td>\n",
              "      <td>22.777906</td>\n",
              "      <td>23.742144</td>\n",
              "      <td>23.591210</td>\n",
              "    </tr>\n",
              "    <tr>\n",
              "      <th>2</th>\n",
              "      <td>22.532806</td>\n",
              "      <td>25.406877</td>\n",
              "      <td>29.399300</td>\n",
              "      <td>31.933238</td>\n",
              "    </tr>\n",
              "    <tr>\n",
              "      <th>3</th>\n",
              "      <td>22.532806</td>\n",
              "      <td>25.406877</td>\n",
              "      <td>29.399300</td>\n",
              "      <td>31.933238</td>\n",
              "    </tr>\n",
              "    <tr>\n",
              "      <th>4</th>\n",
              "      <td>22.532806</td>\n",
              "      <td>25.406877</td>\n",
              "      <td>26.371116</td>\n",
              "      <td>28.905054</td>\n",
              "    </tr>\n",
              "  </tbody>\n",
              "</table>\n",
              "</div>"
            ],
            "text/plain": [
              "      pred_0     pred_1     pred_2     pred_3\n",
              "0  22.532806  22.777906  23.742144  23.591210\n",
              "1  22.532806  22.777906  23.742144  23.591210\n",
              "2  22.532806  25.406877  29.399300  31.933238\n",
              "3  22.532806  25.406877  29.399300  31.933238\n",
              "4  22.532806  25.406877  26.371116  28.905054"
            ]
          },
          "metadata": {
            "tags": []
          },
          "execution_count": 10
        }
      ]
    },
    {
      "cell_type": "code",
      "metadata": {
        "id": "8w642b6fgNMR",
        "outputId": "cb818873-fd4e-4cd8-970f-0b9c62609f00",
        "colab": {
          "base_uri": "https://localhost:8080/"
        }
      },
      "source": [
        "# cross check the predictions of iteration\n",
        "print('ground truth ', y[:5].tolist())\n",
        "for i,pred in enumerate(model.staged_predict(X)):\n",
        "  print('round:',i+1)\n",
        "  print('pred         ', pred[:5])\n",
        "  print('\\n')"
      ],
      "execution_count": null,
      "outputs": [
        {
          "output_type": "stream",
          "text": [
            "learning rate: 0.3 \n",
            "\n",
            "ground truth  [24.0, 21.6, 34.7, 33.4, 36.2]\n",
            "round: 1\n",
            "pred          [22.7779056  22.7779056  25.40687747 25.40687747 25.40687747]\n",
            "\n",
            "\n",
            "round: 2\n",
            "pred          [23.74214414 23.74214414 29.3992997  29.3992997  26.37111601]\n",
            "\n",
            "\n",
            "round: 3\n",
            "pred          [23.59121031 23.59121031 31.93323755 31.93323755 28.90505386]\n",
            "\n",
            "\n"
          ],
          "name": "stdout"
        }
      ]
    },
    {
      "cell_type": "markdown",
      "metadata": {
        "id": "eVapHwY3aPGT"
      },
      "source": [
        "# Visualize trees"
      ]
    },
    {
      "cell_type": "code",
      "metadata": {
        "id": "b8v21bz7Fn8l",
        "outputId": "eff7a166-ba05-4624-f8a5-8c6387f45d88",
        "colab": {
          "base_uri": "https://localhost:8080/",
          "height": 365
        }
      },
      "source": [
        "sub_tree = model.estimators_[0, 0]\n",
        "\n",
        "dot_data = export_graphviz(\n",
        "    sub_tree,\n",
        "    out_file=None, filled=True, rounded=True,\n",
        "    special_characters=True,\n",
        "    proportion=False, impurity=True,\n",
        ")\n",
        "graph = graph_from_dot_data(dot_data)\n",
        "Image(graph.create_png())"
      ],
      "execution_count": null,
      "outputs": [
        {
          "output_type": "execute_result",
          "data": {
            "image/png": "[encoded data removed]",
            "text/plain": [
              "<IPython.core.display.Image object>"
            ]
          },
          "metadata": {
            "tags": []
          },
          "execution_count": 12
        }
      ]
    }
  ]
}