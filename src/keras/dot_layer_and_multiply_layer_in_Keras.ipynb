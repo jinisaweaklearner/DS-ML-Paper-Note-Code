{
  "nbformat": 4,
  "nbformat_minor": 0,
  "metadata": {
    "colab": {
      "name": "Dot Layer and multiply layer in Keras.ipynb",
      "provenance": [],
      "collapsed_sections": [],
      "authorship_tag": "ABX9TyOK+hbRZxqfJMItOX1X8XYD",
      "include_colab_link": true
    },
    "kernelspec": {
      "name": "python3",
      "display_name": "Python 3"
    },
    "language_info": {
      "name": "python"
    }
  },
  "cells": [
    {
      "cell_type": "markdown",
      "metadata": {
        "id": "view-in-github",
        "colab_type": "text"
      },
      "source": [
        "<a href=\"https://colab.research.google.com/github/jinisaweaklearner/DS-ML-Paper-Note-Code/blob/master/src/keras/dot_layer_and_multiply_layer_in_Keras.ipynb\" target=\"_parent\"><img src=\"https://colab.research.google.com/assets/colab-badge.svg\" alt=\"Open In Colab\"/></a>"
      ]
    },
    {
      "cell_type": "code",
      "metadata": {
        "id": "EIWrQo9t9Or2"
      },
      "source": [
        "import keras\n",
        "import numpy as np"
      ],
      "execution_count": 5,
      "outputs": []
    },
    {
      "cell_type": "markdown",
      "metadata": {
        "id": "n2876kWB-cAa"
      },
      "source": [
        "# Dot Layer"
      ]
    },
    {
      "cell_type": "markdown",
      "metadata": {
        "id": "L9AUldssGhYd"
      },
      "source": [
        "### example 1"
      ]
    },
    {
      "cell_type": "code",
      "metadata": {
        "colab": {
          "base_uri": "https://localhost:8080/"
        },
        "id": "zTZaZlIn9UrE",
        "outputId": "dba68412-618e-4de2-e374-56d27ff7f3c4"
      },
      "source": [
        "x = np.arange(10).reshape(5, 2)\n",
        "x"
      ],
      "execution_count": 27,
      "outputs": [
        {
          "output_type": "execute_result",
          "data": {
            "text/plain": [
              "array([[0, 1],\n",
              "       [2, 3],\n",
              "       [4, 5],\n",
              "       [6, 7],\n",
              "       [8, 9]])"
            ]
          },
          "metadata": {},
          "execution_count": 27
        }
      ]
    },
    {
      "cell_type": "code",
      "metadata": {
        "colab": {
          "base_uri": "https://localhost:8080/"
        },
        "id": "GON4FCK49XQj",
        "outputId": "8543ad0e-8eb3-4807-e822-86a5a171a856"
      },
      "source": [
        "y = np.arange(10, 20).reshape(5, 2)\n",
        "y"
      ],
      "execution_count": 31,
      "outputs": [
        {
          "output_type": "execute_result",
          "data": {
            "text/plain": [
              "array([[10, 11],\n",
              "       [12, 13],\n",
              "       [14, 15],\n",
              "       [16, 17],\n",
              "       [18, 19]])"
            ]
          },
          "metadata": {},
          "execution_count": 31
        }
      ]
    },
    {
      "cell_type": "code",
      "metadata": {
        "colab": {
          "base_uri": "https://localhost:8080/"
        },
        "id": "avj59pbd-PKw",
        "outputId": "6411a1a9-ba71-4a9a-f3f8-14a29dffc582"
      },
      "source": [
        "\"\"\"\n",
        "0*10 + 1*11 = 11\n",
        "2*12 + 3*13 = 63\n",
        "\"\"\"\n",
        "keras.layers.Dot(axes=1)([x, y])"
      ],
      "execution_count": 32,
      "outputs": [
        {
          "output_type": "execute_result",
          "data": {
            "text/plain": [
              "<tf.Tensor: shape=(5, 1), dtype=int64, numpy=\n",
              "array([[ 11],\n",
              "       [ 63],\n",
              "       [131],\n",
              "       [215],\n",
              "       [315]])>"
            ]
          },
          "metadata": {},
          "execution_count": 32
        }
      ]
    },
    {
      "cell_type": "markdown",
      "metadata": {
        "id": "Bp6McnRQGkaU"
      },
      "source": [
        "### example 2"
      ]
    },
    {
      "cell_type": "code",
      "metadata": {
        "colab": {
          "base_uri": "https://localhost:8080/"
        },
        "id": "XNDIGH3n-m-k",
        "outputId": "bc9c2be2-6203-498d-a52e-97dde54ea2c4"
      },
      "source": [
        "x = np.arange(10).reshape(1, 5, 2)\n",
        "x"
      ],
      "execution_count": 37,
      "outputs": [
        {
          "output_type": "execute_result",
          "data": {
            "text/plain": [
              "array([[[0, 1],\n",
              "        [2, 3],\n",
              "        [4, 5],\n",
              "        [6, 7],\n",
              "        [8, 9]]])"
            ]
          },
          "metadata": {},
          "execution_count": 37
        }
      ]
    },
    {
      "cell_type": "code",
      "metadata": {
        "colab": {
          "base_uri": "https://localhost:8080/"
        },
        "id": "kWSW1oHRGAM-",
        "outputId": "1441c1d0-fed2-4721-fce0-ad7de075184f"
      },
      "source": [
        "y = np.arange(10, 20).reshape(1, 2, 5)\n",
        "y"
      ],
      "execution_count": 38,
      "outputs": [
        {
          "output_type": "execute_result",
          "data": {
            "text/plain": [
              "array([[[10, 11, 12, 13, 14],\n",
              "        [15, 16, 17, 18, 19]]])"
            ]
          },
          "metadata": {},
          "execution_count": 38
        }
      ]
    },
    {
      "cell_type": "code",
      "metadata": {
        "colab": {
          "base_uri": "https://localhost:8080/"
        },
        "id": "gqHCQ4o5-kWF",
        "outputId": "7ec8a827-226d-4b17-f53b-6fc683712924"
      },
      "source": [
        "\"\"\"\n",
        "0*10+2*11+4*12+6*13+8*14 = 260\n",
        "\"\"\"\n",
        "keras.layers.Dot(axes=(1,2))([x, y])"
      ],
      "execution_count": 39,
      "outputs": [
        {
          "output_type": "execute_result",
          "data": {
            "text/plain": [
              "<tf.Tensor: shape=(1, 2, 2), dtype=int64, numpy=\n",
              "array([[[260, 360],\n",
              "        [320, 445]]])>"
            ]
          },
          "metadata": {},
          "execution_count": 39
        }
      ]
    },
    {
      "cell_type": "markdown",
      "metadata": {
        "id": "4GumWx0bK9_8"
      },
      "source": [
        "# Multiply layer"
      ]
    },
    {
      "cell_type": "code",
      "metadata": {
        "colab": {
          "base_uri": "https://localhost:8080/"
        },
        "id": "Z3OdPctgLNJN",
        "outputId": "a1bcbeaa-881b-4f50-f504-1b84d7149a5f"
      },
      "source": [
        "np.arange(5).reshape(5, 1)"
      ],
      "execution_count": 42,
      "outputs": [
        {
          "output_type": "execute_result",
          "data": {
            "text/plain": [
              "array([[0],\n",
              "       [1],\n",
              "       [2],\n",
              "       [3],\n",
              "       [4]])"
            ]
          },
          "metadata": {},
          "execution_count": 42
        }
      ]
    },
    {
      "cell_type": "code",
      "metadata": {
        "colab": {
          "base_uri": "https://localhost:8080/"
        },
        "id": "CsGmmZA9LOUt",
        "outputId": "4041ca7c-a223-460a-e095-9a540bcb5b82"
      },
      "source": [
        "np.arange(5, 10).reshape(5, 1)"
      ],
      "execution_count": 41,
      "outputs": [
        {
          "output_type": "execute_result",
          "data": {
            "text/plain": [
              "array([[5],\n",
              "       [6],\n",
              "       [7],\n",
              "       [8],\n",
              "       [9]])"
            ]
          },
          "metadata": {},
          "execution_count": 41
        }
      ]
    },
    {
      "cell_type": "code",
      "metadata": {
        "colab": {
          "base_uri": "https://localhost:8080/"
        },
        "id": "2rMQmbaKGfZ4",
        "outputId": "4cf5b868-5d30-4e53-dace-da8d6df14186"
      },
      "source": [
        "\"\"\"\n",
        "0*5=0\n",
        "1*6=6\n",
        "\"\"\"\n",
        "keras.layers.Multiply()([np.arange(5).reshape(5, 1),np.arange(5, 10).reshape(5, 1)])"
      ],
      "execution_count": 40,
      "outputs": [
        {
          "output_type": "execute_result",
          "data": {
            "text/plain": [
              "<tf.Tensor: shape=(5, 1), dtype=int64, numpy=\n",
              "array([[ 0],\n",
              "       [ 6],\n",
              "       [14],\n",
              "       [24],\n",
              "       [36]])>"
            ]
          },
          "metadata": {},
          "execution_count": 40
        }
      ]
    },
    {
      "cell_type": "code",
      "metadata": {
        "colab": {
          "base_uri": "https://localhost:8080/"
        },
        "id": "iZr1QQKOfHRJ",
        "outputId": "966611a5-b23f-4a79-8177-1708e9283d57"
      },
      "source": [
        "x1 = np.arange(10).reshape(5, 2)\n",
        "x1"
      ],
      "execution_count": 48,
      "outputs": [
        {
          "output_type": "execute_result",
          "data": {
            "text/plain": [
              "array([[0, 1],\n",
              "       [2, 3],\n",
              "       [4, 5],\n",
              "       [6, 7],\n",
              "       [8, 9]])"
            ]
          },
          "metadata": {},
          "execution_count": 48
        }
      ]
    },
    {
      "cell_type": "code",
      "metadata": {
        "colab": {
          "base_uri": "https://localhost:8080/"
        },
        "id": "oOq2IktGfHOL",
        "outputId": "e88a5697-1053-4dad-826c-84b15c26cdbb"
      },
      "source": [
        "x2 = np.arange(10, 20).reshape(5, 2)\n",
        "x2"
      ],
      "execution_count": 47,
      "outputs": [
        {
          "output_type": "execute_result",
          "data": {
            "text/plain": [
              "array([[10, 11],\n",
              "       [12, 13],\n",
              "       [14, 15],\n",
              "       [16, 17],\n",
              "       [18, 19]])"
            ]
          },
          "metadata": {},
          "execution_count": 47
        }
      ]
    },
    {
      "cell_type": "code",
      "metadata": {
        "colab": {
          "base_uri": "https://localhost:8080/"
        },
        "id": "baLI7f5hLLnQ",
        "outputId": "1da2abd8-15b0-489b-8569-330cdb02ef3b"
      },
      "source": [
        "\"\"\"\n",
        "0 * 10 = 0\n",
        "1 * 11 = 11\n",
        "\"\"\"\n",
        "keras.layers.Multiply()([x1, x2])"
      ],
      "execution_count": 49,
      "outputs": [
        {
          "output_type": "execute_result",
          "data": {
            "text/plain": [
              "<tf.Tensor: shape=(5, 2), dtype=int64, numpy=\n",
              "array([[  0,  11],\n",
              "       [ 24,  39],\n",
              "       [ 56,  75],\n",
              "       [ 96, 119],\n",
              "       [144, 171]])>"
            ]
          },
          "metadata": {},
          "execution_count": 49
        }
      ]
    },
    {
      "cell_type": "code",
      "metadata": {
        "id": "5goj8TClL2s_"
      },
      "source": [
        ""
      ],
      "execution_count": null,
      "outputs": []
    }
  ]
}